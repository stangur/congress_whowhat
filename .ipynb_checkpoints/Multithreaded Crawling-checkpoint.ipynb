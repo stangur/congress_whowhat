{
 "cells": [
  {
   "cell_type": "code",
   "execution_count": null,
   "metadata": {
    "collapsed": true
   },
   "outputs": [],
   "source": [
    "from multiprocessing import Manager\n",
    "from concurrent.futures import ThreadPoolExecutor\n",
    "from threading import current_thread\n",
    "from time import time\n",
    "from urllib.request import urlopen\n",
    "import requests\n",
    "from lxml import html\n",
    "from time import time"
   ]
  },
  {
   "cell_type": "code",
   "execution_count": null,
   "metadata": {},
   "outputs": [],
   "source": [
    "\"\"\"\n",
    "create a \"thread safe\" queue. thread safe\n",
    "means that the queue (which is really a list)\n",
    "can handle read/write from multiple thhreads.\n",
    "\"\"\"\n",
    "data_queue = Manager().Queue()"
   ]
  },
  {
   "cell_type": "code",
   "execution_count": null,
   "metadata": {},
   "outputs": [],
   "source": [
    "def crawl(idx, my_queue):\n",
    "\n",
    "    # create path\n",
    "    bill_url = 'https://www.govinfo.gov/bulkdata/BILLSTATUS/115/hr/BILLSTATUS-115hr' + str(idx) + '.xml'\n",
    "    bill_source = requests.get(bill_url)\n",
    "    bill_ntree = html.document_fromstring(bill_source.content)\n",
    "\n",
    "    # fetch result and put into queue\n",
    "    result = bill_ntree.xpath('//recordedvote[descendant::chamber/text()=\"House\"]/rollnumber/text()')\n",
    "    my_queue.put(result)\n",
    "    \n",
    "    # track\n",
    "    print(\">> thread {} fetched document {}\".format(current_thread().name, idx))"
   ]
  },
  {
   "cell_type": "code",
   "execution_count": null,
   "metadata": {},
   "outputs": [],
   "source": [
    "n_threads = 10  # K threads means K x faster\n",
    "n_documents = 20  # number of documents to crawl\n",
    "\n",
    "start = time()\n",
    "\n",
    "with ThreadPoolExecutor(max_workers=n_threads) as executor:\n",
    "    for idx in range(1, n_documents):  \n",
    "        _ = executor.submit(crawl, idx, data_queue)\n",
    "\n",
    "print(\"execution time\", time() - start)"
   ]
  },
  {
   "cell_type": "code",
   "execution_count": null,
   "metadata": {},
   "outputs": [],
   "source": [
    "while not data_queue.empty():\n",
    "    print(data_queue.get())"
   ]
  },
  {
   "cell_type": "code",
   "execution_count": null,
   "metadata": {
    "collapsed": true
   },
   "outputs": [],
   "source": []
  },
  {
   "cell_type": "code",
   "execution_count": null,
   "metadata": {
    "collapsed": true
   },
   "outputs": [],
   "source": []
  }
 ],
 "metadata": {
  "kernelspec": {
   "display_name": "Python 3",
   "language": "python",
   "name": "python3"
  },
  "language_info": {
   "codemirror_mode": {
    "name": "ipython",
    "version": 3
   },
   "file_extension": ".py",
   "mimetype": "text/x-python",
   "name": "python",
   "nbconvert_exporter": "python",
   "pygments_lexer": "ipython3",
   "version": "3.6.3"
  }
 },
 "nbformat": 4,
 "nbformat_minor": 2
}
